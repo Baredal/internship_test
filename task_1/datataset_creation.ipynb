{
 "cells": [
  {
   "cell_type": "code",
   "execution_count": 1,
   "metadata": {},
   "outputs": [],
   "source": [
    "import pandas as pd\n",
    "import random\n",
    "import csv\n",
    "import re\n",
    "from sklearn.model_selection import train_test_split\n",
    "import requests\n",
    "from bs4 import BeautifulSoup"
   ]
  },
  {
   "cell_type": "markdown",
   "metadata": {},
   "source": [
    "The dataset was created by scraping three websites, where a total of 1101 sentences with the words mountain or mountains were collected. Subsequently, these words were replaced with the names of mountains (only lowercase mountain or mountains words, because some mountains were already present in the sentences, but it would be difficult to label them). The replacement of words was done in such a way as to maintain a balance of mountain names by randomly selecting a mountain name and keeping track of the number of mountains used. If all the mountain names were used, the tracker was updated and again randomly selected and recorded the used mountains. Subsequently, these mountains were labeled with bio-tags, where 'B-MOUNTAIN' stands for the beginning of the mountain name, or mountain (if the mountain name consists of one word or the tokenizer will not break it) and 'I-MOUNTAIN', the following words that refer to the mountain name (if the mountain consists of several words or the tokenizer breaks the mountain name) and 'O' - if it is another word, not mountain name\n"
   ]
  },
  {
   "cell_type": "code",
   "execution_count": 2,
   "metadata": {},
   "outputs": [
    {
     "data": {
      "text/plain": [
       "101"
      ]
     },
     "execution_count": 2,
     "metadata": {},
     "output_type": "execute_result"
    }
   ],
   "source": [
    "# Scraping sentences from the first website\n",
    "url_1 = 'https://gikken.co/mate-translate/sentences/english/mountain'\n",
    "response_1 = requests.get(url_1)  # Sending GET request\n",
    "soup_1 = BeautifulSoup(response_1.text, 'html.parser')  # Parsing HTML response\n",
    "\n",
    "# List to store sentences containing the word \"mountain\"\n",
    "sentences_with_mountains_1 = []\n",
    "\n",
    "# Extracting sentences from a specific div with the class 'info-block example-sentences'\n",
    "for p_tag in soup_1.find('div', class_='info-block example-sentences').find_all('p'):\n",
    "    for a_tag in p_tag.find_all('a'):  # Removing all anchor tags inside the paragraph\n",
    "        a_tag.extract()\n",
    "    sentences_with_mountains_1.append(p_tag.text.strip())  # Appending cleaned sentence text\n",
    "len(sentences_with_mountains_1)  # Checking the number of sentences scraped"
   ]
  },
  {
   "cell_type": "code",
   "execution_count": 3,
   "metadata": {},
   "outputs": [
    {
     "data": {
      "text/plain": [
       "500"
      ]
     },
     "execution_count": 3,
     "metadata": {},
     "output_type": "execute_result"
    }
   ],
   "source": [
    "# Scraping sentences from the second website\n",
    "url_2 = 'https://sentence.yourdictionary.com/mountain'\n",
    "response_2 = requests.get(url_2)  # Sending GET request\n",
    "soup_2 = BeautifulSoup(response_2.text, 'html.parser')  # Parsing HTML response\n",
    "\n",
    "# List to store sentences containing the word \"mountain\"\n",
    "sentences_with_mountains_2 = []\n",
    "\n",
    "# Extracting sentences from paragraphs with the class 'sentence-item__text'\n",
    "for sentence in soup_2.find_all('p', class_='sentence-item__text'):\n",
    "    sentences_with_mountains_2.append(sentence.text.strip())  # Appending sentence text\n",
    "len(sentences_with_mountains_2)  # Checking the number of sentences scraped"
   ]
  },
  {
   "cell_type": "code",
   "execution_count": 4,
   "metadata": {},
   "outputs": [
    {
     "data": {
      "text/plain": [
       "500"
      ]
     },
     "execution_count": 4,
     "metadata": {},
     "output_type": "execute_result"
    }
   ],
   "source": [
    "# Scraping sentences from the third website\n",
    "url_3 = 'https://sentence.yourdictionary.com/mountains'\n",
    "response_3 = requests.get(url_3)  # Sending GET request\n",
    "soup_3 = BeautifulSoup(response_3.text, 'html.parser')  # Parsing HTML response\n",
    "\n",
    "# List to store sentences containing the word \"mountains\"\n",
    "sentences_with_mountains_3 = []\n",
    "\n",
    "# Extracting sentences from paragraphs with the class 'sentence-item__text'\n",
    "for sentence in soup_3.find_all('p', class_='sentence-item__text'):\n",
    "    sentences_with_mountains_3.append(sentence.text.strip())  # Appending sentence text\n",
    "len(sentences_with_mountains_3)  # Checking the number of sentences scraped"
   ]
  },
  {
   "cell_type": "code",
   "execution_count": 6,
   "metadata": {},
   "outputs": [],
   "source": [
    "# Combining all scraped sentences into a single list\n",
    "all_sentences_with_mountains = sentences_with_mountains_1 + sentences_with_mountains_2 + sentences_with_mountains_3\n",
    "\n",
    "# Writing the sentences into a CSV file\n",
    "output_file = \"./data/all.csv\"\n",
    "with open(output_file, mode='w', newline='', encoding='utf-8') as file:\n",
    "    writer = csv.writer(file)\n",
    "    writer.writerow([\"Sentence\"])  # Writing header row\n",
    "    for sentence in all_sentences_with_mountains:\n",
    "        writer.writerow([sentence])  # Writing each sentence as a new row"
   ]
  },
  {
   "cell_type": "code",
   "execution_count": 10,
   "metadata": {},
   "outputs": [],
   "source": [
    "mountains_names = ['Goverla',\n",
    "    \"Mount Everest\", \"K2\", \"Kangchenjunga\", \"Lhotse\", \"Makalu\", \n",
    "    \"Cho Oyu\", \"Dhaulagiri\", \"Manaslu\", \"Nanga Parbat\", \"Annapurna\", \n",
    "    \"Kilimanjaro\", \"Elbrus\", \"Fuji\", \"Denali\", \"Matterhorn\", \n",
    "    \"McKinley\", \"Rainier\", \"Whitney\", \"Mont Blanc\", \"Aconcagua\", \n",
    "    \"Roraima\", \"St. Helens\", \"Hood\", \"Kosciuszko\", \"Ararat\", \n",
    "    \"Vinson\", \"Erebus\", \"Vesuvius\", \"Etna\", \"Table Mountain\", \n",
    "    \"Adams\", \"Baker\", \"Goliath\", \"Taranaki\", \"Shasta\", \"Olympus\", \n",
    "    \"Toubkal\", \"Cervino\", \"Andes\", \"Huascarán\", \"Namjagbarwa\", \n",
    "    \"Bogda\", \"Trikora\", \"Damavand\", \"Musala\", \"Siguniang\", \n",
    "    \"Kinabalu\", \"Meru\", \"Puncak Jaya\", \"Kailash\", \"Rinjani\", \n",
    "    \"Pico\", \"Nanda Devi\", \"Khao Luang\", \"Holy Cross\", \"Waddington\", \n",
    "    \"Asgard\", \"Tambora\", \"Chimborazo\", \"Sorata\", \"Tien Shan\", \n",
    "    \"Krn\", \"Helicon\", \"Darwin\", \"Inyangani\", \"Sawtooth\", \n",
    "    \"Aiguille\", \"Takao\", \"Sonnblick\", \"Olomana\", \"Cuyamaca\", \n",
    "    \"Bardsey\", \"Foraker\", \"Crillon\", \"Meile\", \"Bastille\", \n",
    "    \"Perisher\", \"Selkirk\", \"Brazeau\", \"Cathedral\", \"Chirripó\", \n",
    "    \"Batur\", \"Okmok\", \"Wind River Mountains\", \"Alps\", \"Rockies\", \n",
    "    \"Pyrenees\", \"Carpathians\", \"Himalayas\", \"Caucasus Mountains\",\n",
    "    \"Vanoise Massif\", \"Sierra Nevada\", \"Titicaca Mountains\", \"Cotswolds\", \n",
    "    \"Blue Ridge Mountains\", \"Cascade Range\", \"Appalachians\", \"Ural Mountains\", \n",
    "    \"Tian Shan\", \"Atlas Mountains\", \"Dolomites\", \"Great Smoky Mountains\", \n",
    "    \"Zagros Mountains\", \"Alborz Mountains\", \"Ayrshire Hills\", \"Beartooth Mountains\", \n",
    "    \"Sierra Madre\", \"Cordillera Blanca\", \"Sierra de Guadarrama\", \"Black Hills\", \n",
    "    \"Wasatch Range\", \"Saskatchewan Mountains\", \"Sierra de los Cuchumatanes\", \n",
    "    \"Sayan Mountains\", \"Giant Mountains\", \"Massif Central\", \"Pennines\", \n",
    "    \"Apennines\", \"White Mountains\", \"Chugach Mountains\", \"Tatra Mountains\",\n",
    "    \"Pindus Mountains\", \"Fitz Roy\", \"Mount Cook\", \"Toubkal\", \"Sandia Mountains\", \n",
    "    \"Red Mountains\", \"Picos de Europa\", \"Wuling Mountains\", \"Cerro Torre\", \n",
    "    \"Cerro Fitz Roy\", \"Rangitoto\", \"Mount Wilhelm\", \"Yushan\", \"Lennox Hills\",\n",
    "    \"Hindu Kush\", \"Nimba Mountains\", \"Khumbu Mountains\", \"Sierra Nevada de Santa Marta\", \n",
    "    \"Timor Mountains\", \"Kermadec Islands\", \"Hindu Kush Mountains\", \"Hubbard Glacier\", \n",
    "    \"Mount Lemmington\", \"Mount Apo\", \"Mount Khao Luang\", \"Vinales Mountains\", \n",
    "    \"Mount Tai\", \"Sierra de San Pedro Martir\", \"Yangtze Mountains\", \"Caribbean Mountains\", \n",
    "    \"Whistler Mountain\", \"Mount Banahaw\", \"Balkan Mountains\", \"Tianmu Mountains\", \n",
    "    \"Pico Duarte\", \"San Juan Mountains\", \"Alps\", \"Hohe Tauern\", \"Mauna Kea\", \n",
    "    \"Sangre de Cristo Mountains\", \"Punakha\", \"Sierra Madres\", \"Chugach Range\", \"Karakol Mountains\",\n",
    "    \"Mount Fuji\", \"Mount Kilimanjaro\", \"Mount Everest\", \"Mount McKinley\", \"Mount Rainier\",\n",
    "    \"Mount Denali\", \"Mount Blanc\", \"Mount Ararat\", \"Mount Elbrus\", \"Mount St. Helens\",\n",
    "    \"Mount Hood\", \"Mount Taranaki\", \"Mount Shasta\", \"Mount Olympus\", \"Mount Puncak Jaya\",\n",
    "    \"Mount Meru\", \"Mount Aconcagua\", \"Mount Kosciuszko\", \"Mount Whitney\", \"Mount Matterhorn\",\n",
    "    \"Mount Fuego\", \"Mount Meru\", \"Mount Toubkal\", \"Mount Thor\", \"Mount Goliath\", \"Mount Adams\",\n",
    "    \"Mount Cerro Torre\", \"Mount Fuji\", \"Mount Mount Cook\", \"Mount Vesuvius\", \"Mount Vinson\",\n",
    "    'Red Mountain', 'Blue Mountains', 'Rocky Mountains'\n",
    "]\n",
    "\n"
   ]
  },
  {
   "cell_type": "code",
   "execution_count": null,
   "metadata": {},
   "outputs": [],
   "source": [
    "# Reading the CSV file into a pandas DataFrame and converting sentences to a list\n",
    "all_data = pd.read_csv('./data/all.csv')\n",
    "mountains_sentences = all_data['Sentence'].to_list()\n",
    "\n",
    "# Function to replace keywords ('mountain', 'mountains') in sentences with random mountain names\n",
    "def replace_with_mountains(sentences, mountain_names):\n",
    "    \"\"\"\n",
    "    Replaces occurrences of 'mountain' or 'mountains' in sentences with random mountain names.\n",
    "\n",
    "    Parameters:\n",
    "        sentences (list): A list of sentences containing the keywords to be replaced.\n",
    "        mountain_names (list): A list of mountain names to use as replacements.\n",
    "\n",
    "    Returns:\n",
    "        list: A list of sentences with keywords replaced by mountain names.\n",
    "    \"\"\"\n",
    "    all_sentences = []  # List to store modified sentences\n",
    "    keywords = ['mountain', 'mountains']  # Keywords to replace\n",
    "    keyword_pattern = re.compile(r'\\b(?:' + '|'.join(map(re.escape, keywords)) + r')s?\\b')  # Regex pattern for keywords\n",
    "    used_mountains = set()  # Track used mountain names to avoid repetition\n",
    "\n",
    "    for sentence in sentences:\n",
    "        matches = list(keyword_pattern.finditer(sentence))  # Find all matches of keywords\n",
    "        if matches:\n",
    "            new_sentence = sentence\n",
    "            for matching in reversed(matches):  # Replace matches from the end to maintain indices\n",
    "                available_mountains = [m for m in mountain_names if m not in used_mountains]  # Filter unused mountain names\n",
    "                if not available_mountains:  # If all names are used, reset the set\n",
    "                    used_mountains.clear()\n",
    "                    mountain = random.choice(mountain_names)  # Randomly pick a mountain name\n",
    "                    used_mountains.add(mountain)\n",
    "                else:\n",
    "                    mountain = random.choice(available_mountains)  # Pick an unused mountain name\n",
    "                    used_mountains.add(mountain)\n",
    "                \n",
    "                start, end = matching.span()  # Get start and end indices of the match\n",
    "                new_sentence = new_sentence[:start] + mountain + new_sentence[end:]  # Replace the match with the mountain name\n",
    "            \n",
    "            all_sentences.append(new_sentence)  # Add modified sentence to the list\n",
    "        else:\n",
    "            all_sentences.append(sentence)  # If no match, add the original sentence\n",
    "    \n",
    "    return all_sentences\n",
    "\n",
    "# Function to generate BIO tags for mountain names in sentences\n",
    "def make_bio_tags(sentences, mountain_names):\n",
    "    \"\"\"\n",
    "    Generates BIO tags for identifying mountain names in sentences.\n",
    "\n",
    "    Parameters:\n",
    "        sentences (list): A list of sentences containing mountain names.\n",
    "        mountain_names (list): A list of mountain names to tag in the sentences.\n",
    "\n",
    "    Returns:\n",
    "        list: A list of BIO tags corresponding to the tokens in each sentence.\n",
    "    \"\"\"\n",
    "    all_labels = []  # List to store BIO tags for all sentences\n",
    "\n",
    "    for sentence in sentences:\n",
    "        tokens = re.findall(r'\\b\\w+\\b|\\.', sentence)  # Tokenize sentence\n",
    "        labels = [\"O\"] * len(tokens)  # Initialize all labels as \"O\" (outside)\n",
    "        for mountain in mountain_names:\n",
    "            mountain_tokens = re.findall(r'\\b\\w+\\b|\\.', mountain)  # Tokenize mountain name\n",
    "            start_idx = None\n",
    "\n",
    "            # Find the starting index of the mountain name in the tokens\n",
    "            for i in range(len(tokens) - len(mountain_tokens) + 1):\n",
    "                if tokens[i:i + len(mountain_tokens)] == mountain_tokens:\n",
    "                    start_idx = i\n",
    "                    break\n",
    "\n",
    "            if start_idx is not None:  # If the mountain name is found in the sentence\n",
    "                labels[start_idx] = \"B-MOUNTAIN\"  # Mark the start as \"B-MOUNTAIN\"\n",
    "                for j in range(1, len(mountain_tokens)):\n",
    "                    labels[start_idx + j] = \"I-MOUNTAIN\"  # Mark subsequent tokens as \"I-MOUNTAIN\"\n",
    "        all_labels.append(labels)  # Add labels for the sentence\n",
    "    \n",
    "    return all_labels"
   ]
  },
  {
   "cell_type": "code",
   "execution_count": 8,
   "metadata": {},
   "outputs": [],
   "source": [
    "# Splitting sentences into training and validation datasets\n",
    "sentences = pd.read_csv('./data/all.csv')\n",
    "train_sentences, val_sentences = train_test_split(sentences, test_size=0.2, random_state=42)  # 80-20 split\n",
    "\n",
    "# Saving the split datasets to CSV files\n",
    "train_sentences.to_csv('./data/train_data.csv', index=False)\n",
    "val_sentences.to_csv('./data/val_data.csv', index=False)"
   ]
  },
  {
   "cell_type": "code",
   "execution_count": 11,
   "metadata": {},
   "outputs": [],
   "source": [
    "# Reading back the split datasets\n",
    "train = pd.read_csv('./data/train_data.csv')\n",
    "val = pd.read_csv('./data/val_data.csv')\n",
    "\n",
    "# Replacing keywords in sentences with random mountain names for training and validation datasets\n",
    "train_replaced = replace_with_mountains(train['Sentence'].tolist(), mountains_names)\n",
    "val_replaced = replace_with_mountains(val['Sentence'].tolist(), mountains_names)\n",
    "\n",
    "# Generating BIO tags for the modified sentences\n",
    "train_tags = make_bio_tags(train_replaced, mountains_names)\n",
    "val_tags = make_bio_tags(val_replaced, mountains_names)\n",
    "\n",
    "# Adding modified sentences and tags as new columns to the training and validation datasets\n",
    "train['new_sentence'] = train_replaced\n",
    "train['tags'] = train_tags\n",
    "val['new_sentence'] = val_replaced\n",
    "val['tags'] = val_tags\n",
    "\n",
    "# Tokenizing the modified sentences and adding as a new column\n",
    "train['tokens'] = train['new_sentence'].apply(lambda sentence: re.findall(r'\\b\\w+\\b|\\.', sentence))\n",
    "val['tokens'] = val['new_sentence'].apply(lambda sentence: re.findall(r'\\b\\w+\\b|\\.', sentence))\n",
    "\n",
    "# Saving the modified datasets to new CSV files\n",
    "train.to_csv('./data/train_data_modified.csv', index=False)\n",
    "val.to_csv('./data/val_data_modified.csv', index=False)"
   ]
  }
 ],
 "metadata": {
  "kernelspec": {
   "display_name": "Python 3",
   "language": "python",
   "name": "python3"
  },
  "language_info": {
   "codemirror_mode": {
    "name": "ipython",
    "version": 3
   },
   "file_extension": ".py",
   "mimetype": "text/x-python",
   "name": "python",
   "nbconvert_exporter": "python",
   "pygments_lexer": "ipython3",
   "version": "3.10.7"
  }
 },
 "nbformat": 4,
 "nbformat_minor": 2
}
